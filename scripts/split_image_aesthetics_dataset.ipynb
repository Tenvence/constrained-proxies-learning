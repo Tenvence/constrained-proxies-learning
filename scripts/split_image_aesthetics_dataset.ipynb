{
 "cells": [
  {
   "cell_type": "code",
   "execution_count": 1,
   "outputs": [],
   "source": [
    "import json\n",
    "import os\n",
    "import random\n",
    "\n",
    "import numpy as np\n",
    "import pandas as pd"
   ],
   "metadata": {
    "collapsed": false
   }
  },
  {
   "cell_type": "code",
   "execution_count": 2,
   "outputs": [],
   "source": [
    "root = '../../../DataSet/ImageAesthetics'"
   ],
   "metadata": {
    "collapsed": false
   }
  },
  {
   "cell_type": "code",
   "execution_count": 3,
   "outputs": [],
   "source": [
    "for cat in ['nature', 'animals', 'people', 'urban']:\n",
    "    tsv_file = pd.read_csv(os.path.join(root, 'beauty-icwsm15-dataset.tsv'), sep='\\t', header=0).loc[lambda x: x['category'] == cat]\n",
    "    samples = []\n",
    "    for photo_id, scores in zip(tsv_file['#flickr_photo_id'], tsv_file['beauty_scores']):\n",
    "        if os.path.exists(os.path.join(root, 'img_files', f'{photo_id}.jpg')):\n",
    "            median = np.median([int(s) for s in scores.split(',')]) - 1\n",
    "            samples.append((photo_id, int(median)))\n",
    "\n",
    "    num_samples = len(samples)\n",
    "    num_val = int(np.ceil(num_samples * 0.05))\n",
    "    num_test = int(np.ceil(num_samples * 0.2))\n",
    "    num_train = num_samples - num_val - num_test\n",
    "\n",
    "    for fold_idx in range(5):\n",
    "        test_samples = random.sample(samples, k=num_test)\n",
    "\n",
    "        train_val_samples = list(set(samples) - set(test_samples))\n",
    "        train_samples = random.sample(train_val_samples, k=num_train)\n",
    "        val_samples = list(set(train_val_samples) - set(train_samples))\n",
    "\n",
    "        with open(os.path.join(root, f'{cat}_fold_{fold_idx}.txt'), 'w') as f:\n",
    "            js = json.dumps({'train': train_samples, 'val': val_samples, 'test': test_samples})\n",
    "            f.write(js)"
   ],
   "metadata": {
    "collapsed": false
   }
  }
 ],
 "metadata": {
  "kernelspec": {
   "display_name": "Python 3",
   "language": "python",
   "name": "python3"
  },
  "language_info": {
   "codemirror_mode": {
    "name": "ipython",
    "version": 2
   },
   "file_extension": ".py",
   "mimetype": "text/x-python",
   "name": "python",
   "nbconvert_exporter": "python",
   "pygments_lexer": "ipython2",
   "version": "2.7.6"
  }
 },
 "nbformat": 4,
 "nbformat_minor": 0
}
