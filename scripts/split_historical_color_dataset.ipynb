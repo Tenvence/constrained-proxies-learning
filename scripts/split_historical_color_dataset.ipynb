{
 "cells": [
  {
   "cell_type": "code",
   "execution_count": 2,
   "metadata": {
    "collapsed": true
   },
   "outputs": [],
   "source": [
    "import json\n",
    "import os\n",
    "import random"
   ]
  },
  {
   "cell_type": "code",
   "execution_count": 3,
   "outputs": [],
   "source": [
    "root = '../../../DataSet/HistoricalColor'"
   ],
   "metadata": {
    "collapsed": false
   }
  },
  {
   "cell_type": "code",
   "execution_count": 4,
   "outputs": [],
   "source": [
    "decades = ['1930s', '1940s', '1950s', '1960s', '1970s']\n",
    "for fold_idx in range(10):\n",
    "    train_samples, val_samples, test_samples = [], [], []\n",
    "    for label, decade in enumerate(decades):\n",
    "        img_names = os.listdir(os.path.join(root, decade))\n",
    "\n",
    "        test_names = random.sample(img_names, k=50)\n",
    "\n",
    "        train_val_names = list(set(img_names) - set(test_names))\n",
    "        train_names = random.sample(train_val_names, k=210)\n",
    "        val_names = list(set(train_val_names) - set(train_names))\n",
    "\n",
    "        for train_name in train_names:\n",
    "            train_samples.append((decade, train_name, label))\n",
    "        for val_name in val_names:\n",
    "            val_samples.append((decade, val_name, label))\n",
    "        for test_name in test_names:\n",
    "            test_samples.append((decade, test_name, label))\n",
    "\n",
    "        with open(os.path.join(root, f'fold_{fold_idx}.txt'), 'w') as f:\n",
    "            js = json.dumps({'train': train_samples, 'val': val_samples, 'test': test_samples})\n",
    "            f.write(js)"
   ],
   "metadata": {
    "collapsed": false
   }
  }
 ],
 "metadata": {
  "kernelspec": {
   "display_name": "Python 3",
   "language": "python",
   "name": "python3"
  },
  "language_info": {
   "codemirror_mode": {
    "name": "ipython",
    "version": 2
   },
   "file_extension": ".py",
   "mimetype": "text/x-python",
   "name": "python",
   "nbconvert_exporter": "python",
   "pygments_lexer": "ipython2",
   "version": "2.7.6"
  }
 },
 "nbformat": 4,
 "nbformat_minor": 0
}
