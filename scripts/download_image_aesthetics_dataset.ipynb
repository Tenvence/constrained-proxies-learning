{
 "cells": [
  {
   "cell_type": "code",
   "execution_count": null,
   "metadata": {
    "collapsed": true
   },
   "outputs": [],
   "source": [
    "import os\n",
    "import xml.etree.ElementTree as et\n",
    "\n",
    "import PIL.Image as Image\n",
    "import pandas as pd\n",
    "import requests\n",
    "import tqdm"
   ]
  },
  {
   "cell_type": "code",
   "execution_count": null,
   "outputs": [],
   "source": [
    "image_aesthetics_path = '../../../DataSet/ImageAesthetics/beauty-icwsm15-dataset.tsv'\n",
    "output_path = '../../DataSet/ImageAesthetics/'\n",
    "api_key = '1188f7f86dd85503a7f28b983a3ca0c5'\n",
    "proxies_port = 1087"
   ],
   "metadata": {
    "collapsed": false
   }
  },
  {
   "cell_type": "code",
   "execution_count": null,
   "outputs": [],
   "source": [
    "xml_path = os.path.join(output_path, 'xml_files')\n",
    "if not os.path.exists(xml_path):\n",
    "    os.mkdir(xml_path)\n",
    "\n",
    "img_path = os.path.join(output_path, 'img_files')\n",
    "if not os.path.exists(img_path):\n",
    "    os.mkdir(img_path)\n",
    "\n",
    "proxies = {'http': f'127.0.0.1:{proxies_port}', 'https': f'127.0.0.1:{proxies_port}'}\n",
    "\n",
    "tsv_file = pd.read_csv(image_aesthetics_path, sep='\\t', header=0)\n",
    "processor = tqdm.tqdm(tsv_file['#flickr_photo_id'])\n",
    "for photo_id in processor:\n",
    "    if not os.path.exists(os.path.join(xml_path, f'{photo_id}.xml')):\n",
    "        url = f'https://www.flickr.com/services/rest/?method=flickr.photos.getSizes&api_key={api_key}&photo_id={photo_id}&format=rest'\n",
    "        xml_file = requests.get(url, proxies=proxies)\n",
    "        open(os.path.join(xml_path, f'{photo_id}.xml'), 'wb').write(xml_file.content)\n",
    "\n",
    "    if not os.path.exists(os.path.join(img_path, f'{photo_id}.jpg')):\n",
    "        tree = et.parse(os.path.join(xml_path, f'{photo_id}.xml'))\n",
    "        root = tree.getroot()\n",
    "        if root.attrib['stat'] == 'ok':\n",
    "            img_file = requests.get(root[0][3].attrib['source'], proxies=proxies)\n",
    "            open(os.path.join(img_path, f'{photo_id}.jpg'), 'wb').write(img_file.content)\n",
    "            Image.open(os.path.join(img_path, f'{photo_id}.jpg')).convert('RGB')\n",
    "        elif root[0].attrib['code'] != '1':\n",
    "            os.remove(os.path.join(img_path, f'{photo_id}.xml'))\n",
    "            exit()\n",
    "    else:\n",
    "        Image.open(os.path.join(img_path, f'{photo_id}.jpg')).convert('RGB')\n",
    "\n",
    "    processor.set_description(f'#ok={len(os.listdir(img_path))}; #fail={len(os.listdir(xml_path)) - len(os.listdir(img_path))}')"
   ],
   "metadata": {
    "collapsed": false
   }
  }
 ],
 "metadata": {
  "kernelspec": {
   "display_name": "Python 3",
   "language": "python",
   "name": "python3"
  },
  "language_info": {
   "codemirror_mode": {
    "name": "ipython",
    "version": 2
   },
   "file_extension": ".py",
   "mimetype": "text/x-python",
   "name": "python",
   "nbconvert_exporter": "python",
   "pygments_lexer": "ipython2",
   "version": "2.7.6"
  }
 },
 "nbformat": 4,
 "nbformat_minor": 0
}
